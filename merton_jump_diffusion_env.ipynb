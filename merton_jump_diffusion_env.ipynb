{
 "cells": [
  {
   "cell_type": "code",
   "execution_count": null,
   "metadata": {},
   "outputs": [],
   "source": [
    "import yfinance as yf\n",
    "import pandas as pd\n",
    "from datetime import datetime, timedelta\n",
    "import numpy as np\n",
    "import matplotlib.pyplot as plt\n",
    "import seaborn as sns\n",
    "\n",
    "pd.set_option('display.max_rows', None)\n",
    "pd.set_option('display.max_columns', None)\n",
    "pd.set_option('display.float_format', lambda x: '%.3f' % x)"
   ]
  },
  {
   "attachments": {},
   "cell_type": "markdown",
   "metadata": {},
   "source": [
    "## Code Functions below\n",
    "\n",
    "staging area for mathmatical functions + dataframe manipulation"
   ]
  },
  {
   "cell_type": "code",
   "execution_count": null,
   "metadata": {},
   "outputs": [],
   "source": [
    "def pull_underlying(ticker):\n",
    "    \n",
    "    # pull 3-months worth of data to calculate the standard deviation and +/- to the most recent close\n",
    "    asset = yf.Ticker(ticker)\n",
    "    price_rn = asset.history(period='1d')\n",
    "    recent_close = price_rn[\"Close\"].iloc[-1]\n",
    "\n",
    "    hist_pricing = pd.DataFrame(asset.history(period=\"12mo\"))\n",
    "    stdev_close = hist_pricing['Close'].std()\n",
    "    avg_price = hist_pricing['Close'].mean()\n",
    "    info = {\"SYMBOL\": ticker, \"PRICE\": recent_close, \"-STDEV\": recent_close - stdev_close, \"+STDEV\": recent_close + stdev_close, \"STDEV\" : stdev_close, \"MU\": avg_price}\n",
    "   \n",
    "    return info"
   ]
  },
  {
   "cell_type": "code",
   "execution_count": null,
   "metadata": {},
   "outputs": [],
   "source": [
    "def get_option_data(days : int) -> pd.DataFrame:\n",
    "\n",
    "    # Get the options data for SPY\n",
    "    options = sec.options\n",
    "\n",
    "    # Convert the options data to a pandas DataFrame\n",
    "    options_df = pd.DataFrame(options, columns=['expiration'])\n",
    "    options_df['expiration'] = pd.to_datetime(options_df['expiration'], format = '%Y-%m-%d')\n",
    "    options_df['exp_date'] = options_df['expiration'].dt.strftime('%Y-%m-%d')\n",
    "\n",
    "    # Filter the options data to include only expiries within the next 30 days\n",
    "    thirty_days_from_now = datetime.now() + timedelta(days=days)\n",
    "    options_df = options_df[options_df['expiration'].dt.date <= thirty_days_from_now.date()]\n",
    "\n",
    "    opt_list = []\n",
    "\n",
    "    for exp in options_df['exp_date']:\n",
    "        opt = sec.option_chain(date = exp)\n",
    "        calls = opt.calls\n",
    "        calls = calls.assign(expiry=exp)\n",
    "        calls = calls.assign(optType = 'call')\n",
    "        puts = opt.puts\n",
    "        puts = puts.assign(expiry=exp)\n",
    "        puts = puts.assign(optType = 'put')\n",
    "        opt_list.append(calls)\n",
    "        opt_list.append(puts)\n",
    "        opt_chains = pd.concat(opt_list)\n",
    "    #opt_chains = pd.DataFrame(opt_list, columns=['contractSymbol', 'lastTradeDate', 'strike', 'lastPrice', 'bid', 'ask', 'change', 'percentChange', 'volume', 'openInterest', 'impliedVolatility', 'inTheMoney', 'contractSize', 'currency', 'expiry'])\n",
    "    # Return the filtered options data\n",
    "    return opt_chains"
   ]
  },
  {
   "cell_type": "code",
   "execution_count": null,
   "metadata": {},
   "outputs": [],
   "source": [
    "def identify_strikes(ticker, days : int):\n",
    "    mrkt_price = pull_underlying(ticker)\n",
    "    chains = get_option_data(days)\n",
    "\n",
    "   \n",
    "    oi_mean = chains.openInterest.mean()\n",
    "    oi_stdev = chains.openInterest.std()\n",
    "    oi_plus1 = oi_mean + oi_stdev\n",
    "    oi_minus1 = oi_mean - oi_stdev\n",
    "    \n",
    "    adj_chains = chains[(chains['strike'] > mrkt_price[\"-STDEV\"]) & (chains['strike'] < mrkt_price[\"+STDEV\"]) & (chains['openInterest'] > oi_minus1)]\n",
    "    \n",
    "    return adj_chains"
   ]
  },
  {
   "cell_type": "code",
   "execution_count": null,
   "metadata": {},
   "outputs": [],
   "source": [
    "# fit model and determine optimial params + optimize for pricing discrepancies\n",
    "import numpy as np\n",
    "from scipy.stats import norm\n",
    "from scipy.optimize import minimize_scalar   \n",
    "from scipy.optimize import minimize\n",
    "\n",
    "N = norm.cdf\n",
    "\n",
    "def merton_jump_call(S, K, T, r, sigma, m , v, lam):\n",
    "    d1 = (np.log(S/K) + (r + 0.5*sigma**2)*T)/(sigma*np.sqrt(T))\n",
    "    d2 = d1 - sigma*np.sqrt(T)\n",
    "    lambda_t = lam*T\n",
    "    mu = m - 0.5*v**2\n",
    "    J = lambda_t*(np.exp(mu + 0.5*v**2)-1)\n",
    "    N_d1 = N(d1)\n",
    "    N_d2 = N(d2)\n",
    "    N_d1_J = N(d1-v*np.sqrt(T))\n",
    "    call_price = S*np.exp(-J)*N_d1 - K*np.exp(-r*T)*N_d2\n",
    "    return call_price\n",
    "\n",
    "def merton_jump_put(S, K, T, r, sigma, m , v, lam):\n",
    "    d1 = (np.log(S/K) + (r + 0.5*sigma**2)*T)/(sigma*np.sqrt(T))\n",
    "    d2 = d1 - sigma*np.sqrt(T)\n",
    "    lambda_t = lam*T\n",
    "    mu = m - 0.5*v**2\n",
    "    J = lambda_t*(np.exp(mu + 0.5*v**2)-1)\n",
    "    N_d1 = N(d1)\n",
    "    N_d2 = N(d2)\n",
    "    N_d1_J = N(d1-v*np.sqrt(T))\n",
    "    put_price = K*np.exp(-r*T)*(1-N_d2) - S*np.exp(-J)*(1-N_d1_J)\n",
    "    return put_price\n"
   ]
  },
  {
   "cell_type": "code",
   "execution_count": null,
   "metadata": {},
   "outputs": [],
   "source": [
    "# function to optimize mu and lambda\n",
    "def optimal_params(x, mkt_prices, strikes, optType):\n",
    "    candidate_prices = [merton_jump_call(S, K, T, r, sigma, x[0], iv, x[1]) if optType==\"call\" else merton_jump_put(S, K, T, r, sigma, x[0], iv, x[1]) for S, K, T, r, sigma, iv in zip(df[\"S\"], strikes, df[\"t\"], df[\"r\"], df[\"sigma\"], df[\"impliedVolatility\"])]\n",
    "    return np.sum((mkt_prices - candidate_prices) ** 2)"
   ]
  },
  {
   "cell_type": "code",
   "execution_count": null,
   "metadata": {},
   "outputs": [],
   "source": [
    "# triggers pricing across all rows in data frame\n",
    "\n",
    "### needs to be optimized - maybe with dictionary calling instead of row iteration\n",
    "\n",
    "def price_by_optType(row):\n",
    "    if row['optType'] == 'call':\n",
    "        return merton_jump_call(row['S'], row['strike'], row['t'], row['r'], row['sigma'], row['mu'], row['impliedVolatility'], row['lambda'])\n",
    "    else:\n",
    "        return merton_jump_put(row['S'], row['strike'], row['t'], row['r'], row['sigma'], row['mu'], row['impliedVolatility'], row['lambda'])\n",
    "\n"
   ]
  },
  {
   "cell_type": "code",
   "execution_count": null,
   "metadata": {},
   "outputs": [],
   "source": [
    "# Create a function that runs the minimize function and returns the output\n",
    "def minimize_helper(row, prices, strikes):\n",
    "    return minimize(optimal_params, method='SLSQP', x0=x0, args=(prices, strikes, row[\"optType\"]), bounds=bounds, tol=1e-20, options={\"maxiter\": 1000}).x"
   ]
  },
  {
   "cell_type": "code",
   "execution_count": null,
   "metadata": {},
   "outputs": [],
   "source": [
    "# visualizes the prices of the option instead of underlying security\n",
    "\n",
    "def merton_jump_paths_with_options(df, S, r, sigma, m, lam, v, steps, Npaths):\n",
    "    size=(steps,Npaths)\n",
    "    dt = T/steps \n",
    "    poi_rv = np.multiply(np.random.poisson( lam*dt, size=size), np.random.normal(m,v, size=size)).cumsum(axis=0)\n",
    "    geo = np.cumsum(((r -  sigma**2/2 -lam*(m  + v**2*0.5))*dt + sigma*np.sqrt(dt) * np.random.normal(size=size)), axis=0)\n",
    "    stock_prices = np.exp(geo+poi_rv)*S\n",
    "    \n",
    "    df[\"price\"] = df.apply(lambda row: price_by_optType(row), axis=1)\n",
    "    return df.price.tolist()\n",
    "\n",
    "# this is for the underlying asset\n",
    "def merton_jump_paths(S, T, r, sigma,  lam, m, v, steps, Npaths):\n",
    "    size=(steps,Npaths)\n",
    "    dt = T/steps \n",
    "    poi_rv = np.multiply(np.random.poisson( lam*dt, size=size),\n",
    "                         np.random.normal(m,v, size=size)).cumsum(axis=0)\n",
    "    geo = np.cumsum(((r -  sigma**2/2 -lam*(m  + v**2*0.5))*dt +\\\n",
    "                              sigma*np.sqrt(dt) * \\\n",
    "                              np.random.normal(size=size)), axis=0)\n",
    "    \n",
    "    return np.exp(geo+poi_rv)*S"
   ]
  },
  {
   "attachments": {},
   "cell_type": "markdown",
   "metadata": {},
   "source": [
    "# Insert Ticker Symbol and Risk-Free Rate as a decimal below to begin analysis\n",
    "\n",
    "- Risk Free Rate is from: https://home.treasury.gov/resource-center/data-chart-center/interest-rates/TextView?type=daily_treasury_bill_rates&field_tdr_date_value_month=202301\n",
    "    - Based on either 4-8 week bank discount"
   ]
  },
  {
   "cell_type": "code",
   "execution_count": 77,
   "metadata": {},
   "outputs": [],
   "source": [
    "t_str = \"abnb\""
   ]
  },
  {
   "cell_type": "code",
   "execution_count": 78,
   "metadata": {},
   "outputs": [],
   "source": [
    "# HERE - fixed variables that will require manipulation\n",
    "ticker = (f\"{t_str}\").upper()\n",
    "sec = yf.Ticker(ticker)\n",
    "\n",
    "# adjust rate based on macro outlook\n",
    "rfr = 0.05\n",
    "# duration of options (influences rfr as well)\n",
    "day = 30\n",
    "#days out of calendar year\n",
    "min_maturity = 14/365"
   ]
  },
  {
   "attachments": {},
   "cell_type": "markdown",
   "metadata": {},
   "source": [
    "## Call functions above to model prices\n",
    "\n",
    "- pulls data\n",
    "- aggregates greeks\n",
    "- performs calculation\n",
    "- drops uncessary rows\n",
    "- sorts by p&L"
   ]
  },
  {
   "cell_type": "code",
   "execution_count": 79,
   "metadata": {},
   "outputs": [],
   "source": [
    "# call functions to pull data based on provided inputs\n",
    "opt_df = identify_strikes(ticker, days=day)\n",
    "asset_info = pull_underlying(ticker)"
   ]
  },
  {
   "cell_type": "code",
   "execution_count": 80,
   "metadata": {},
   "outputs": [
    {
     "name": "stderr",
     "output_type": "stream",
     "text": [
      "/var/folders/_x/rmbn1d5n4cx4ht3tt724nzrc0000gn/T/ipykernel_59830/3399871843.py:5: SettingWithCopyWarning: \n",
      "A value is trying to be set on a copy of a slice from a DataFrame.\n",
      "Try using .loc[row_indexer,col_indexer] = value instead\n",
      "\n",
      "See the caveats in the documentation: https://pandas.pydata.org/pandas-docs/stable/user_guide/indexing.html#returning-a-view-versus-a-copy\n",
      "  df['S'] = asset_info['PRICE']\n"
     ]
    },
    {
     "data": {
      "text/plain": [
       "(132, 16)"
      ]
     },
     "execution_count": 80,
     "metadata": {},
     "output_type": "execute_result"
    }
   ],
   "source": [
    "# dataframe manipulation - greek aggregation for S, T, r, sigma + midpoint price of option\n",
    "\n",
    "df = opt_df[['contractSymbol', 'expiry', 'strike', 'lastPrice', 'bid', 'ask', 'change', 'percentChange', 'impliedVolatility', 'optType', 'openInterest']]\n",
    "### start fixed column variables\n",
    "df['S'] = asset_info['PRICE']\n",
    "df = df.assign(t = (pd.to_datetime(df['expiry']) - pd.Timestamp.today()).dt.days)\n",
    "df['t'] = np.where(df['t'] < 0, 1, df['t'])\n",
    "df = df.assign(r = rfr)\n",
    "\n",
    "# need to divide by a full calendar year that's scalar with the expiration\n",
    "df['t'] = df['t']/365\n",
    "df = df.assign(sigma = (asset_info['STDEV'] / asset_info['MU']))\n",
    "### END FIXED COLUMNS\n",
    "\n",
    "# keep midpoint here for table readability later\n",
    "df = df.assign(midpoint = ((df.bid + df.ask)/2))\n",
    "df = df[df['t'] > min_maturity]\n",
    "\n",
    "df.shape"
   ]
  },
  {
   "attachments": {},
   "cell_type": "markdown",
   "metadata": {},
   "source": [
    "**parallelized the process across all cores - dictionary referencing didn't create any incremental performance gains**"
   ]
  },
  {
   "cell_type": "code",
   "execution_count": 81,
   "metadata": {},
   "outputs": [
    {
     "name": "stdout",
     "output_type": "stream",
     "text": [
      "Parameter Optimization for - ABNB: COMPLETE\n"
     ]
    }
   ],
   "source": [
    "# parallelize job to make run faster\n",
    "from joblib import Parallel, delayed\n",
    "# order inherently for (sigma (annual volatilty), mu (mean jump size), v (std dev of jump size - impliedVolatility), lambda(number of jumps per year intensity))\n",
    "\n",
    "# jump mean and lambda (intensity)\n",
    "x0 = [0.1, 1]  # initial guess for algorithm\n",
    "bounds = ((0.01, 2), (0, 5))  # bounds for parameters\n",
    "strikes = df.strike.values\n",
    "prices = df.midpoint.values\n",
    "\n",
    "# Use joblib to run the minimize_helper function in parallel\n",
    "df[\"params\"] = Parallel(n_jobs=-1)(delayed(minimize_helper)(row, prices, strikes) for _, row in df.iterrows())\n",
    "\n",
    "# increase verbosity when complete so I can tell\n",
    "print(f\"Parameter Optimization for - {ticker}: COMPLETE\")"
   ]
  },
  {
   "cell_type": "code",
   "execution_count": 82,
   "metadata": {},
   "outputs": [],
   "source": [
    "# split mu and lamda from list to call pricing function\n",
    "## to lazy to call the list w/in the series\n",
    "\n",
    "df[['mu', 'lambda']] = df.params.apply(pd.Series)"
   ]
  },
  {
   "cell_type": "code",
   "execution_count": 83,
   "metadata": {},
   "outputs": [],
   "source": [
    "df['price'] = df.apply(price_by_optType, axis=1)\n",
    "\n",
    "df['price_diff'] = df['price'] - df['midpoint']\n",
    "df['p&L'] = (df['price'] - df['midpoint']) * 100\n",
    "df['percentage_growth'] = (df['price_diff']/df['midpoint']) * 100\n",
    "df = df[df['midpoint'] > 0]"
   ]
  },
  {
   "cell_type": "code",
   "execution_count": 84,
   "metadata": {},
   "outputs": [],
   "source": [
    "udf = df.drop(columns=['S', 't', 'r', 'sigma', 'params', 'mu', 'lambda'])"
   ]
  },
  {
   "cell_type": "code",
   "execution_count": 85,
   "metadata": {},
   "outputs": [],
   "source": [
    "udf = udf[['contractSymbol', 'strike', 'expiry','optType', 'price', 'midpoint','lastPrice', \n",
    "       'p&L', 'price_diff', 'bid', 'ask', 'impliedVolatility', \n",
    "       'change', 'percentChange',  'openInterest']]"
   ]
  },
  {
   "cell_type": "code",
   "execution_count": 86,
   "metadata": {},
   "outputs": [
    {
     "data": {
      "text/html": [
       "<div>\n",
       "<style scoped>\n",
       "    .dataframe tbody tr th:only-of-type {\n",
       "        vertical-align: middle;\n",
       "    }\n",
       "\n",
       "    .dataframe tbody tr th {\n",
       "        vertical-align: top;\n",
       "    }\n",
       "\n",
       "    .dataframe thead th {\n",
       "        text-align: right;\n",
       "    }\n",
       "</style>\n",
       "<table border=\"1\" class=\"dataframe\">\n",
       "  <thead>\n",
       "    <tr style=\"text-align: right;\">\n",
       "      <th></th>\n",
       "      <th>contractSymbol</th>\n",
       "      <th>strike</th>\n",
       "      <th>expiry</th>\n",
       "      <th>optType</th>\n",
       "      <th>price</th>\n",
       "      <th>midpoint</th>\n",
       "      <th>lastPrice</th>\n",
       "      <th>p&amp;L</th>\n",
       "      <th>price_diff</th>\n",
       "      <th>bid</th>\n",
       "      <th>ask</th>\n",
       "      <th>impliedVolatility</th>\n",
       "      <th>change</th>\n",
       "      <th>percentChange</th>\n",
       "      <th>openInterest</th>\n",
       "    </tr>\n",
       "  </thead>\n",
       "  <tbody>\n",
       "  </tbody>\n",
       "</table>\n",
       "</div>"
      ],
      "text/plain": [
       "Empty DataFrame\n",
       "Columns: [contractSymbol, strike, expiry, optType, price, midpoint, lastPrice, p&L, price_diff, bid, ask, impliedVolatility, change, percentChange, openInterest]\n",
       "Index: []"
      ]
     },
     "execution_count": 86,
     "metadata": {},
     "output_type": "execute_result"
    }
   ],
   "source": [
    "sorted_pricediff = udf.sort_values(by=['openInterest','price_diff', 'impliedVolatility'], ascending=False)\n",
    "sorted_pricediff = sorted_pricediff[sorted_pricediff['price_diff'] > 0]\n",
    "sorted_pricediff.head()"
   ]
  },
  {
   "cell_type": "code",
   "execution_count": null,
   "metadata": {},
   "outputs": [],
   "source": []
  },
  {
   "cell_type": "code",
   "execution_count": 87,
   "metadata": {},
   "outputs": [
    {
     "ename": "IndexError",
     "evalue": "index 0 is out of bounds for axis 0 with size 0",
     "output_type": "error",
     "traceback": [
      "\u001b[0;31m---------------------------------------------------------------------------\u001b[0m",
      "\u001b[0;31mIndexError\u001b[0m                                Traceback (most recent call last)",
      "Cell \u001b[0;32mIn[87], line 1\u001b[0m\n\u001b[0;32m----> 1\u001b[0m best_pL_info \u001b[39m=\u001b[39m df\u001b[39m.\u001b[39mloc[df[\u001b[39m'\u001b[39m\u001b[39mcontractSymbol\u001b[39m\u001b[39m'\u001b[39m] \u001b[39m==\u001b[39m sorted_pricediff\u001b[39m.\u001b[39;49mcontractSymbol\u001b[39m.\u001b[39;49mvalues[\u001b[39m0\u001b[39;49m]]\n",
      "\u001b[0;31mIndexError\u001b[0m: index 0 is out of bounds for axis 0 with size 0"
     ]
    }
   ],
   "source": [
    "best_pL_info = df.loc[df['contractSymbol'] == sorted_pricediff.contractSymbol.values[0]]"
   ]
  },
  {
   "cell_type": "code",
   "execution_count": null,
   "metadata": {},
   "outputs": [],
   "source": [
    "#set by user\n",
    "### UPDATE THESE ONLY ###\n",
    "npaths = 1\n",
    "# set above when entering ticker\n",
    "steps = day\n",
    "\n",
    "#set by model\n",
    "S = asset_info['PRICE']\n",
    "T = best_pL_info['t'].values[0]\n",
    "m = best_pL_info['mu'].values[0]\n",
    "lam = best_pL_info['lambda'].values[0]\n",
    "v = best_pL_info['impliedVolatility'].values[0]\n",
    "sigma = best_pL_info['sigma'].values[0]\n",
    "strike = best_pL_info['strike'].values[0]\n",
    "optType = best_pL_info['optType'].values[0]"
   ]
  },
  {
   "cell_type": "code",
   "execution_count": null,
   "metadata": {},
   "outputs": [],
   "source": [
    "ul = merton_jump_paths(S=S, T=T, r=rfr, sigma=sigma, lam=lam, m=m, v=v, steps=steps, Npaths=npaths)"
   ]
  },
  {
   "cell_type": "code",
   "execution_count": null,
   "metadata": {},
   "outputs": [],
   "source": [
    "x = np.arange(len(ul))\n",
    "y = ul.reshape(-1)\n",
    "time2exp = (pd.to_datetime(best_pL_info['expiry'].values[0]) - pd.Timestamp.today()).days\n",
    "y_coordinate = round(y[time2exp], 2)\n",
    "diff = (y - S) / S * 100\n",
    "\n",
    "sns.lineplot(x=x, y=y)\n",
    "sns.set_theme('talk')\n",
    "plt.xlabel('Days')\n",
    "plt.ylabel('Stock Price')\n",
    "plt.title('Jump Diffusion Process')\n",
    "\n",
    "plt.axvline(time2exp, color='black', linestyle='dashed', linewidth=2,label=\"day2expiry\")\n",
    "plt.axhline(S, color='red', linestyle='dashed', linewidth=2,label=\"current price\")\n",
    "plt.axhline(strike, color='green', linestyle='dashed', linewidth=2,label=\"strike\")\n",
    "plt.axhline(asset_info['+STDEV'], color='black', linestyle='dashed', linewidth=2,label=\"+1\")\n",
    "plt.axhline(asset_info['-STDEV'], color='black', linestyle='dashed', linewidth=2,label=\"-1\")\n",
    "\n",
    "plt.annotate(f'${round(y[time2exp], 2)}', xy=(time2exp, y[time2exp]), xytext=(time2exp-1, y[time2exp]-1),\n",
    "             arrowprops=dict(facecolor='black', shrink=0.05, linewidth=0))\n",
    "plt.fill_between(x, y_coordinate, S, color='gray', alpha=0.5)\n",
    "\n",
    "diff = (y[time2exp]-S)\n",
    "perc_diff = (diff/S)*100\n",
    "plt.annotate(f\"Projected Price Drop: ${diff:.2f} | {perc_diff:.2f}%\", xy=(time2exp, y[time2exp]), xytext=(time2exp+1, y[time2exp]+1),\n",
    "             fontweight='bold', color='green',arrowprops=dict(arrowstyle='-', color='green', linewidth=0))"
   ]
  },
  {
   "cell_type": "code",
   "execution_count": null,
   "metadata": {},
   "outputs": [],
   "source": [
    "time2exp = (pd.to_datetime(best_pL_info['expiry'].values[0]) - pd.Timestamp.today()).days\n",
    "\n",
    "j = merton_jump_paths_with_options(df, S=S, r=rfr, sigma=sigma, m=m, lam=lam, v=v, steps=time2exp, Npaths=npaths)\n",
    "x = np.arange(len(j))\n",
    "y = np.maximum(j, 0)\n",
    "#y_coordinate = round(y[time2exp], 2)\n",
    "diff = (y - S) / S * 100\n",
    "\n",
    "plt.xlim(0, time2exp)\n",
    "sns.lineplot(x=x, y=y)\n",
    "sns.set_theme('talk')\n",
    "plt.xlabel('Days')\n",
    "plt.ylabel('Option Price')\n",
    "plt.title('Jump Diffusion Price')\n",
    "\n",
    "plt.axhline(best_pL_info['bid'].values[0], color='green', linestyle='dashed')\n",
    "plt.axhline(best_pL_info['ask'].values[0], color='red', linestyle='dashed')\n",
    "plt.axhline(best_pL_info['lastPrice'].values[0], color='black', linestyle='dashed')\n",
    "\n"
   ]
  },
  {
   "cell_type": "code",
   "execution_count": null,
   "metadata": {},
   "outputs": [],
   "source": [
    "sorted_pricediff"
   ]
  },
  {
   "cell_type": "code",
   "execution_count": null,
   "metadata": {},
   "outputs": [],
   "source": []
  }
 ],
 "metadata": {
  "kernelspec": {
   "display_name": ".mjdenv",
   "language": "python",
   "name": "python3"
  },
  "language_info": {
   "codemirror_mode": {
    "name": "ipython",
    "version": 3
   },
   "file_extension": ".py",
   "mimetype": "text/x-python",
   "name": "python",
   "nbconvert_exporter": "python",
   "pygments_lexer": "ipython3",
   "version": "3.9.2"
  },
  "orig_nbformat": 4,
  "vscode": {
   "interpreter": {
    "hash": "8c3c8970a4fddec31b639b8beb7587b1cdb249deae1a002c09783a16a8d62342"
   }
  }
 },
 "nbformat": 4,
 "nbformat_minor": 2
}
